{
 "cells": [
  {
   "cell_type": "code",
   "execution_count": 1,
   "metadata": {},
   "outputs": [],
   "source": [
    "import numpy as np\n",
    "import pandas as pd\n",
    "import pickle as pk\n",
    "from xgboost import XGBRegressor\n",
    "from sklearn.model_selection import KFold\n",
    "from sklearn.linear_model import Lasso\n",
    "from sklearn.kernel_ridge import KernelRidge\n",
    "from sklearn.linear_model import ElasticNet\n",
    "from sklearn.linear_model import LassoLarsIC\n",
    "from sklearn.linear_model import BayesianRidge\n",
    "from sklearn.model_selection import GridSearchCV\n",
    "from sklearn.ensemble import RandomForestRegressor\n",
    "from sklearn.ensemble import GradientBoostingRegressor\n",
    "from sklearn.model_selection import train_test_split\n",
    "from sklearn.metrics import mean_squared_error as ms"
   ]
  },
  {
   "cell_type": "code",
   "execution_count": 25,
   "metadata": {},
   "outputs": [],
   "source": [
    "out = open('data/features.pickle', 'rb')\n",
    "features = pk.load(out)\n",
    "out = open('data/labels.pickle', 'rb')\n",
    "labels = pk.load(out)\n",
    "out = open('data/test.pickle', 'rb')\n",
    "test = pk.load(out)\n",
    "out.close()"
   ]
  },
  {
   "cell_type": "code",
   "execution_count": 26,
   "metadata": {},
   "outputs": [
    {
     "data": {
      "text/plain": [
       "((1019, 70), (437, 70), (1019,), (437,), (1459, 70))"
      ]
     },
     "execution_count": 26,
     "metadata": {},
     "output_type": "execute_result"
    }
   ],
   "source": [
    "X_train, X_test, y_train, y_test = train_test_split(features, labels, test_size=0.3, random_state=12)\n",
    "X_train.shape, X_test.shape, y_train.shape, y_test.shape, test.shape"
   ]
  },
  {
   "cell_type": "code",
   "execution_count": 27,
   "metadata": {},
   "outputs": [
    {
     "name": "stdout",
     "output_type": "stream",
     "text": [
      "\n",
      "XGRegression score: 0.12406661804687603\n"
     ]
    }
   ],
   "source": [
    "# ----------------------XGBRegressor------------------\n",
    "\n",
    "model = XGBRegressor(random_state=2, max_depth=6, base_score=0.2)\n",
    "(model.fit(X_train, np.log(y_train)))\n",
    "pred1 = model.predict(X_test)\n",
    "score = np.sqrt(ms(np.log(y_test), pred1))\n",
    "print(\"\\nXGRegression score:\", score)"
   ]
  },
  {
   "cell_type": "code",
   "execution_count": 28,
   "metadata": {},
   "outputs": [
    {
     "name": "stdout",
     "output_type": "stream",
     "text": [
      "\n",
      "RandomForestRegressor score: 0.13780263921630648\n"
     ]
    }
   ],
   "source": [
    "# ------------------RandomForestRegressor-----------------\n",
    "\n",
    "model = RandomForestRegressor(random_state=2, n_estimators=90, max_depth=13)\n",
    "(model.fit(X_train, np.log(y_train)))\n",
    "pred2 = model.predict(X_test)\n",
    "score = np.sqrt(ms(np.log(y_test), pred2))\n",
    "print(\"\\nRandomForestRegressor score:\", score)"
   ]
  },
  {
   "cell_type": "code",
   "execution_count": 29,
   "metadata": {},
   "outputs": [
    {
     "name": "stdout",
     "output_type": "stream",
     "text": [
      "\n",
      "LassoLarsIC score: 0.1383388949709899\n"
     ]
    }
   ],
   "source": [
    "# ----------------------LassoLarsIC--------------------\n",
    "\n",
    "model = LassoLarsIC(normalize=False)\n",
    "(model.fit(X_train, np.log(y_train)))\n",
    "pred3 = model.predict(X_test)\n",
    "score = np.sqrt(ms(np.log(y_test), pred3))\n",
    "print(\"\\nLassoLarsIC score:\", score)"
   ]
  },
  {
   "cell_type": "code",
   "execution_count": 30,
   "metadata": {},
   "outputs": [
    {
     "name": "stdout",
     "output_type": "stream",
     "text": [
      "\n",
      "BayesianRidge score: 0.11756096114839597\n"
     ]
    }
   ],
   "source": [
    "# ---------------------BayesianRidge--------------------\n",
    "\n",
    "model = BayesianRidge()\n",
    "(model.fit(X_train, np.log(y_train)))\n",
    "pred4 = model.predict(X_test)\n",
    "score = np.sqrt(ms(np.log(y_test), pred4))\n",
    "print(\"\\nBayesianRidge score:\", score)"
   ]
  },
  {
   "cell_type": "code",
   "execution_count": 31,
   "metadata": {},
   "outputs": [
    {
     "name": "stdout",
     "output_type": "stream",
     "text": [
      "\n",
      "GradientBoostingRegressor score: 0.12722377952144814\n"
     ]
    }
   ],
   "source": [
    "# -----------------GradientBoostingRegressor--------------------\n",
    "\n",
    "model = GradientBoostingRegressor()\n",
    "(model.fit(X_train, np.log(y_train)))\n",
    "pred5 = model.predict(X_test)\n",
    "score = np.sqrt(ms(np.log(y_test), pred5))\n",
    "print(\"\\nGradientBoostingRegressor score:\", score)"
   ]
  },
  {
   "cell_type": "code",
   "execution_count": 32,
   "metadata": {},
   "outputs": [
    {
     "name": "stdout",
     "output_type": "stream",
     "text": [
      "\n",
      "Lasso score: 0.11836704860670083\n"
     ]
    }
   ],
   "source": [
    "# -------------------Lasso----------------------\n",
    "\n",
    "model = Lasso(alpha=0.0002, random_state=2)\n",
    "(model.fit(X_train, np.log(y_train)))\n",
    "pred6 = model.predict(X_test)\n",
    "score = np.sqrt(ms(np.log(y_test), pred6))\n",
    "print(\"\\nLasso score:\", score)"
   ]
  },
  {
   "cell_type": "code",
   "execution_count": 33,
   "metadata": {},
   "outputs": [
    {
     "name": "stdout",
     "output_type": "stream",
     "text": [
      "\n",
      "ElasticNet score: 0.11813518146984922\n"
     ]
    }
   ],
   "source": [
    "# -------------------ElasticNet----------------------\n",
    "\n",
    "model = ElasticNet(random_state=2, alpha=0.0001)\n",
    "(model.fit(X_train, np.log(y_train)))\n",
    "pred7 = model.predict(X_test)\n",
    "score = np.sqrt(ms(np.log(y_test), pred7))\n",
    "print(\"\\nElasticNet score:\", score)"
   ]
  },
  {
   "cell_type": "code",
   "execution_count": 34,
   "metadata": {},
   "outputs": [
    {
     "name": "stdout",
     "output_type": "stream",
     "text": [
      "\n",
      "KernelRidge score: 0.11755709745310347\n"
     ]
    }
   ],
   "source": [
    "# -------------------KernelRidge----------------------\n",
    "\n",
    "model = KernelRidge(alpha=0.006)\n",
    "(model.fit(X_train, np.log(y_train)))\n",
    "pred8 = model.predict(X_test)\n",
    "score = np.sqrt(ms(np.log(y_test), pred8))\n",
    "print(\"\\nKernelRidge score:\", score)"
   ]
  },
  {
   "cell_type": "code",
   "execution_count": 35,
   "metadata": {},
   "outputs": [],
   "source": [
    "new_training = pd.DataFrame()\n",
    "\n",
    "new_training['pred1'] = pred1\n",
    "new_training['pred2'] = pred2\n",
    "new_training['pred3'] = pred3\n",
    "new_training['pred4'] = pred4\n",
    "new_training['pred5'] = pred5\n",
    "new_training['pred6'] = pred6\n",
    "new_training['pred7'] = pred7\n",
    "new_training['pred8'] = pred8"
   ]
  },
  {
   "cell_type": "code",
   "execution_count": 36,
   "metadata": {},
   "outputs": [
    {
     "name": "stderr",
     "output_type": "stream",
     "text": [
      "/usr/local/lib/python3.6/site-packages/sklearn/ensemble/forest.py:246: FutureWarning: The default value of n_estimators will change from 10 in version 0.20 to 100 in 0.22.\n",
      "  \"10 in version 0.20 to 100 in 0.22.\", FutureWarning)\n"
     ]
    },
    {
     "data": {
      "text/plain": [
       "RandomForestRegressor(bootstrap=True, criterion='mse', max_depth=None,\n",
       "           max_features='auto', max_leaf_nodes=None,\n",
       "           min_impurity_decrease=0.0, min_impurity_split=None,\n",
       "           min_samples_leaf=1, min_samples_split=2,\n",
       "           min_weight_fraction_leaf=0.0, n_estimators=10, n_jobs=None,\n",
       "           oob_score=False, random_state=2, verbose=0, warm_start=False)"
      ]
     },
     "execution_count": 36,
     "metadata": {},
     "output_type": "execute_result"
    }
   ],
   "source": [
    "model_new = RandomForestRegressor(random_state=2)\n",
    "model_new.fit(new_training, np.log(y_test))"
   ]
  },
  {
   "cell_type": "code",
   "execution_count": 37,
   "metadata": {},
   "outputs": [],
   "source": [
    "# ----------------------XGBRegressor------------------\n",
    "\n",
    "model = XGBRegressor(random_state=2, max_depth=6, base_score=0.2)\n",
    "(model.fit(X_train, np.log(y_train)))\n",
    "pred1 = model.predict(test)\n",
    "\n",
    "# ------------------RandomForestRegressor-----------------\n",
    "\n",
    "model = RandomForestRegressor(random_state=2, n_estimators=90, max_depth=13)\n",
    "(model.fit(X_train, np.log(y_train)))\n",
    "pred2 = model.predict(test)\n",
    "\n",
    "# ----------------------LassoLarsIC--------------------\n",
    "\n",
    "model = LassoLarsIC(normalize=False)\n",
    "(model.fit(X_train, np.log(y_train)))\n",
    "pred3 = model.predict(test)\n",
    "\n",
    "# ---------------------BayesianRidge--------------------\n",
    "\n",
    "model = BayesianRidge()\n",
    "(model.fit(X_train, np.log(y_train)))\n",
    "pred4 = model.predict(test)\n",
    "\n",
    "# -----------------GradientBoostingRegressor--------------------\n",
    "\n",
    "model = GradientBoostingRegressor()\n",
    "(model.fit(X_train, np.log(y_train)))\n",
    "pred5 = model.predict(test)\n",
    "\n",
    "# -------------------Lasso----------------------\n",
    "\n",
    "model = Lasso(alpha=0.0002, random_state=2)\n",
    "(model.fit(X_train, np.log(y_train)))\n",
    "pred6 = model.predict(test)\n",
    "\n",
    "# -------------------ElasticNet----------------------\n",
    "\n",
    "model = ElasticNet(random_state=2, alpha=0.0001)\n",
    "(model.fit(X_train, np.log(y_train)))\n",
    "pred7 = model.predict(test)\n",
    "\n",
    "# -------------------KernelRidge----------------------\n",
    "\n",
    "model = KernelRidge(alpha=0.006)\n",
    "(model.fit(X_train, np.log(y_train)))\n",
    "pred8 = model.predict(test)"
   ]
  },
  {
   "cell_type": "code",
   "execution_count": 38,
   "metadata": {},
   "outputs": [],
   "source": [
    "new_testing = pd.DataFrame()\n",
    "\n",
    "new_testing['pred1'] = pred1\n",
    "new_testing['pred2'] = pred2\n",
    "new_testing['pred3'] = pred3\n",
    "new_testing['pred4'] = pred4\n",
    "new_testing['pred5'] = pred5\n",
    "new_testing['pred6'] = pred6\n",
    "new_testing['pred7'] = pred7\n",
    "new_testing['pred8'] = pred8"
   ]
  },
  {
   "cell_type": "code",
   "execution_count": 39,
   "metadata": {},
   "outputs": [],
   "source": [
    "test = pd.read_csv('data/test.csv')\n",
    "index = test['Id']"
   ]
  },
  {
   "cell_type": "code",
   "execution_count": 40,
   "metadata": {},
   "outputs": [],
   "source": [
    "pred_sumb = model_new.predict(new_testing)\n",
    "my_out = pd.DataFrame(np.exp(pred_sumb), index, columns=['SalePrice'])\n",
    "my_out.to_csv('data/my_out.csv')"
   ]
  },
  {
   "cell_type": "code",
   "execution_count": null,
   "metadata": {},
   "outputs": [],
   "source": []
  }
 ],
 "metadata": {
  "kernelspec": {
   "display_name": "Python 3",
   "language": "python",
   "name": "python3"
  },
  "language_info": {
   "codemirror_mode": {
    "name": "ipython",
    "version": 3
   },
   "file_extension": ".py",
   "mimetype": "text/x-python",
   "name": "python",
   "nbconvert_exporter": "python",
   "pygments_lexer": "ipython3",
   "version": "3.6.4"
  }
 },
 "nbformat": 4,
 "nbformat_minor": 2
}
