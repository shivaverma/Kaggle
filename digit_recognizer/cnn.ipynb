{
 "cells": [
  {
   "cell_type": "code",
   "execution_count": 98,
   "metadata": {},
   "outputs": [],
   "source": [
    "import pandas as pd\n",
    "import numpy as np\n",
    "import tensorflow as tf\n",
    "from keras import optimizers\n",
    "import matplotlib.pyplot as plt\n",
    "from sklearn.model_selection import train_test_split"
   ]
  },
  {
   "cell_type": "code",
   "execution_count": 99,
   "metadata": {},
   "outputs": [
    {
     "name": "stdout",
     "output_type": "stream",
     "text": [
      "(42000, 785) (28000, 784)\n"
     ]
    }
   ],
   "source": [
    "train_data = pd.read_csv('train.csv')\n",
    "test_data = pd.read_csv('test.csv')\n",
    "\n",
    "print(train_data.shape, test_data.shape)"
   ]
  },
  {
   "cell_type": "code",
   "execution_count": 100,
   "metadata": {},
   "outputs": [],
   "source": [
    "labels = train_data['label']\n",
    "train_data.drop('label', axis=1, inplace=True)"
   ]
  },
  {
   "cell_type": "code",
   "execution_count": 101,
   "metadata": {},
   "outputs": [],
   "source": [
    "def preprocess(data):\n",
    "    \n",
    "    data = data/255\n",
    "    data -= 0.5\n",
    "    data = data.values.reshape(data.shape[0],28,28,1)\n",
    "    return data"
   ]
  },
  {
   "cell_type": "code",
   "execution_count": 102,
   "metadata": {},
   "outputs": [],
   "source": [
    "train_data = preprocess(train_data)\n",
    "test_data = preprocess(test_data)"
   ]
  },
  {
   "cell_type": "code",
   "execution_count": 103,
   "metadata": {},
   "outputs": [
    {
     "name": "stdout",
     "output_type": "stream",
     "text": [
      "(33600, 28, 28, 1)\n"
     ]
    }
   ],
   "source": [
    "x_train, x_test, y_train, y_test = train_test_split(train_data, labels, test_size=0.2, random_state=12)\n",
    "\n",
    "print(x_train.shape)"
   ]
  },
  {
   "cell_type": "code",
   "execution_count": 142,
   "metadata": {},
   "outputs": [],
   "source": [
    "model = tf.keras.models.Sequential()\n",
    "model.add(tf.keras.layers.Conv2D(64, kernel_size=5, activation='relu', input_shape=(28, 28, 1)))  # 24*24*32\n",
    "model.add(tf.keras.layers.MaxPooling2D(pool_size=(2, 2)))                        # 12*12*32\n",
    "model.add(tf.keras.layers.Conv2D(64, kernel_size=5, activation='relu'))          # 8*8*64\n",
    "model.add(tf.keras.layers.MaxPooling2D(pool_size=(2, 2)))                        # 4*4*64\n",
    "\n",
    "model.add(tf.keras.layers.Flatten())\n",
    "model.add(tf.keras.layers.Dense(128, activation='relu'))\n",
    "model.add(tf.keras.layers.Dropout(0.5))\n",
    "model.add(tf.keras.layers.Dense(10, activation='softmax'))\n",
    "\n",
    "adam = tf.keras.optimizers.Adam()\n",
    "model.compile(loss='sparse_categorical_crossentropy', optimizer=adam, metrics=['accuracy'])"
   ]
  },
  {
   "cell_type": "code",
   "execution_count": 108,
   "metadata": {},
   "outputs": [],
   "source": [
    "from keras.preprocessing.image import ImageDataGenerator\n",
    "\n",
    "datagen = ImageDataGenerator(rotation_range=10, width_shift_range=.1, height_shift_range=.1, shear_range=10, zoom_range=[.85, .85])\n",
    "\n",
    "datagen.fit(x_train)"
   ]
  },
  {
   "cell_type": "code",
   "execution_count": 140,
   "metadata": {},
   "outputs": [
    {
     "name": "stdout",
     "output_type": "stream",
     "text": [
      "Epoch 1/5\n",
      "33600/33600 [==============================] - 59s 2ms/step - loss: 0.0053 - acc: 0.9981\n",
      "Epoch 2/5\n",
      "33600/33600 [==============================] - 54s 2ms/step - loss: 0.0056 - acc: 0.9983\n",
      "Epoch 3/5\n",
      "33600/33600 [==============================] - 77s 2ms/step - loss: 0.0054 - acc: 0.9982\n",
      "Epoch 4/5\n",
      "33600/33600 [==============================] - 51s 2ms/step - loss: 0.0067 - acc: 0.9979\n",
      "Epoch 5/5\n",
      "33600/33600 [==============================] - 63s 2ms/step - loss: 0.0065 - acc: 0.9981\n"
     ]
    },
    {
     "data": {
      "text/plain": [
       "<tensorflow.python.keras.callbacks.History at 0x12b3e77f0>"
      ]
     },
     "execution_count": 140,
     "metadata": {},
     "output_type": "execute_result"
    }
   ],
   "source": [
    "model.optimizer.lr = .0003\n",
    "model.fit(x_train, y_train, batch_size=128, epochs=5, shuffle=True)"
   ]
  },
  {
   "cell_type": "code",
   "execution_count": 88,
   "metadata": {},
   "outputs": [
    {
     "name": "stdout",
     "output_type": "stream",
     "text": [
      "Epoch 1/1\n",
      "33600/33600 [==============================] - 67s 2ms/step - loss: 0.0026 - acc: 0.9993\n"
     ]
    }
   ],
   "source": [
    "epoch = 0\n",
    "batch = 256\n",
    "max_epoch = 1\n",
    "model.optimizer.lr = .0001\n",
    "\n",
    "for x,y in datagen.flow(x_train, y_train, batch_size=batch):\n",
    "    \n",
    "    epoch += 1\n",
    "    model.fit(x_train, y_train, batch_size=batch)\n",
    "    if epoch == max_epoch:\n",
    "        break"
   ]
  },
  {
   "cell_type": "code",
   "execution_count": 141,
   "metadata": {
    "scrolled": true
   },
   "outputs": [
    {
     "name": "stdout",
     "output_type": "stream",
     "text": [
      "8400/8400 [==============================] - 9s 1ms/step\n",
      "\n",
      "val loss: 0.03671239142301298 \n",
      "val_acc: 0.991547619047619\n"
     ]
    }
   ],
   "source": [
    "val_loss, val_acc = model.evaluate(x_test, y_test)\n",
    "print(\"\\nval loss:\", val_loss, \"\\nval_acc:\", val_acc)"
   ]
  },
  {
   "cell_type": "code",
   "execution_count": 137,
   "metadata": {},
   "outputs": [],
   "source": [
    "predict = model.predict(test_data)\n",
    "results = predict.argmax(axis=1)\n",
    "result_data = pd.DataFrame({'ImageId':[x for x in range(1, 28001)], 'Label':results})\n",
    "\n",
    "result_data.to_csv('my_out.csv', index=False)"
   ]
  },
  {
   "cell_type": "code",
   "execution_count": 95,
   "metadata": {},
   "outputs": [
    {
     "data": {
      "text/plain": [
       "(28000, 10)"
      ]
     },
     "execution_count": 95,
     "metadata": {},
     "output_type": "execute_result"
    }
   ],
   "source": [
    "predict.shape"
   ]
  },
  {
   "cell_type": "code",
   "execution_count": null,
   "metadata": {},
   "outputs": [],
   "source": []
  }
 ],
 "metadata": {
  "kernelspec": {
   "display_name": "Python 3",
   "language": "python",
   "name": "python3"
  },
  "language_info": {
   "codemirror_mode": {
    "name": "ipython",
    "version": 3
   },
   "file_extension": ".py",
   "mimetype": "text/x-python",
   "name": "python",
   "nbconvert_exporter": "python",
   "pygments_lexer": "ipython3",
   "version": "3.6.4"
  }
 },
 "nbformat": 4,
 "nbformat_minor": 2
}
